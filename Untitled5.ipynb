{
 "cells": [
  {
   "cell_type": "markdown",
   "id": "8b2b9704-e813-4ee4-9713-b7cd2e1e7f18",
   "metadata": {},
   "source": [
    "# 1.\n",
    "\n",
    "a for loop is a loop in which we can execute a set of statements with a known number of iterations in the condition....\n",
    "\n",
    "example (FOR LOOP):  \n",
    "\n",
    "for i in range(10):\n",
    "print(i)\n",
    "\n",
    "WHILE LOOP : A while loop is a loop is used to execute a statement when we dont know a number of iterations to be printed and the condition will be printed until the condition is true....\n",
    "\n",
    "example for (WHILE LOOP):\n",
    "\n",
    "i = 0\n",
    "while i < 10:\n",
    "    print(i)\n",
    "    i += 1"
   ]
  },
  {
   "cell_type": "markdown",
   "id": "70625965-becb-4a0c-84b2-3b804a4ca0c2",
   "metadata": {},
   "source": [
    "# 2 .\n",
    "-------------------------------------------------------------------------------------------\n",
    " # For loop\n",
    "s = 0\n",
    "p = 1\n",
    "for i in range(1, 11):\n",
    "    s += i\n",
    "    p *= i\n",
    "print(\"Sum of first 10 natural numbers (for loop):\", s)\n",
    "print(\"Product of first 10 natural numbers (for loop):\", p)\n",
    "---------------------------------------------------------------------------------------------\n",
    "# While loop\n",
    "s = 0\n",
    "p = 1\n",
    "i = 1\n",
    "while i <= 10:\n",
    "    sum += i\n",
    "    p *= i\n",
    "    i += 1\n",
    "print(\"Sum of first 10 natural numbers (while loop):\", s)\n",
    "print(\"Product of first 10 natural numbers (while loop):\", p)\n"
   ]
  },
  {
   "cell_type": "code",
   "execution_count": null,
   "id": "de4154ac-a375-418b-927f-5276171a6c5c",
   "metadata": {},
   "outputs": [],
   "source": [
    "# 3 ...\n",
    "\n",
    "code::::::::\n",
    "----------------------------------------------------------------------------------\n",
    "\n",
    "def calculate_bill(units_consumed):\n",
    "    if units_consumed <= 100:\n",
    "        bill = units_consumed * 4.5\n",
    "    elif units_consumed <= 200:\n",
    "        bill = 100 * 4.5 + (units_consumed - 100) * 6\n",
    "    elif units_consumed <= 300:\n",
    "        bill = 100 * 4.5 + 100 * 6 + (units_consumed - 200) * 10\n",
    "    else:\n",
    "        bill = 100 * 4.5 + 100 * 6 + 100 * 10 + (units_consumed - 300) * 20\n",
    "    return bill\n",
    "\n",
    "units_consumed = int(input(\"Enter the number of units consumed: \"))\n",
    "total_bill = calculate_bill(units_consumed)\n",
    "print(\"Total bill amount: Rs.\", total_bill)\n",
    "\n",
    "--------------------------------------------------------------------------------------------------------------------------"
   ]
  },
  {
   "cell_type": "code",
   "execution_count": null,
   "id": "ec9ea315-08ef-4428-a3d3-813a22c8d541",
   "metadata": {},
   "outputs": [],
   "source": [
    "# 4 ,,,,\n",
    "\n",
    "---------------------------------------------------------------------\n",
    "# Using for loop\n",
    "------------------------------------------------------------------\n",
    "cubes_divisible_by_4_or_5 = []\n",
    "for i in range(1, 101):\n",
    "    cube = i**3\n",
    "    if cube % 4 == 0 or cube % 5 == 0:\n",
    "        cubes_divisible_by_4_or_5.append(i)\n",
    "print(\"Numbers in which the cubes are divisible by 4 or 5 (by using for loop):\", cubes_divisible_by_4_or_5)\n",
    "-----------------------------------------------------------------------------------\n",
    "# Using while loop\n",
    "----------------------------------------------------------------------------------\n",
    "cubes_divisible_by_4_or_5 = []\n",
    "i = 1\n",
    "while i <= 100:\n",
    "    cube = i**3\n",
    "    if cube % 4 == 0 or cube % 5 == 0:\n",
    "        cubes_divisible_by_4_or_5.append(i)\n",
    "    i += 1\n",
    "print(\"Numbers in which the cubes are divisible by 4 or 5 (by using while loop):\", cubes_divisible_by_4_or_5)\n"
   ]
  },
  {
   "cell_type": "code",
   "execution_count": null,
   "id": "9477d322-6baa-4e25-a737-7b9022420bf9",
   "metadata": {},
   "outputs": [],
   "source": [
    "# 5............\n",
    "\n",
    "string = \"I want to become a data scientist\"\n",
    "vowels = \"aeiouAEIOU\"       ## known number of vowels\n",
    "count = 0                   ##\n",
    "for char in string:\n",
    "    if char in vowels:\n",
    "        count += 1\n",
    "print(\"Number of vowels in the string:\", count)\n"
   ]
  }
 ],
 "metadata": {
  "kernelspec": {
   "display_name": "Python 3 (ipykernel)",
   "language": "python",
   "name": "python3"
  },
  "language_info": {
   "codemirror_mode": {
    "name": "ipython",
    "version": 3
   },
   "file_extension": ".py",
   "mimetype": "text/x-python",
   "name": "python",
   "nbconvert_exporter": "python",
   "pygments_lexer": "ipython3",
   "version": "3.10.8"
  }
 },
 "nbformat": 4,
 "nbformat_minor": 5
}
